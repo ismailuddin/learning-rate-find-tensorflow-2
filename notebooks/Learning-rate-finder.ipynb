{
 "cells": [
  {
   "cell_type": "markdown",
   "metadata": {},
   "source": [
    "# Finding optimal learning rate\n",
    "\n",
    "TensorFlow 2.X implementation of finding the optimal learning rate, based on the paper _Cyclical learning rates for training neural networks_, and the `lr_find()` implementation in `fastai` for PyTorch.\n",
    "\n",
    "### References\n",
    "1. https://fastai1.fast.ai/callbacks.lr_finder.html\n",
    "2. https://arxiv.org/abs/1506.01186\n",
    "3. https://www.pyimagesearch.com/2019/08/05/keras-learning-rate-finder/\n",
    "4. https://sgugger.github.io/how-do-you-find-a-good-learning-rate.html"
   ]
  },
  {
   "cell_type": "code",
   "execution_count": 1,
   "metadata": {},
   "outputs": [],
   "source": [
    "%matplotlib inline\n",
    "%load_ext lab_black\n",
    "%load_ext autoreload\n",
    "%autoreload 2"
   ]
  },
  {
   "cell_type": "code",
   "execution_count": 86,
   "metadata": {},
   "outputs": [],
   "source": [
    "import numpy as np\n",
    "import pandas as pd\n",
    "import matplotlib.pyplot as plt"
   ]
  },
  {
   "cell_type": "code",
   "execution_count": 3,
   "metadata": {},
   "outputs": [],
   "source": [
    "import math"
   ]
  },
  {
   "cell_type": "code",
   "execution_count": 4,
   "metadata": {},
   "outputs": [],
   "source": [
    "import tensorflow as tf"
   ]
  },
  {
   "cell_type": "markdown",
   "metadata": {},
   "source": [
    "> **Note** Below code is only for using experimental release candidate version of [TensorFlow](https://github.com/apple/tensorflow_macos) on macOS 11.0, which allows GPU acceleration using MLCompute"
   ]
  },
  {
   "cell_type": "code",
   "execution_count": 5,
   "metadata": {},
   "outputs": [
    {
     "name": "stdout",
     "output_type": "stream",
     "text": [
      "WARNING:tensorflow:Eager mode on GPU is extremely slow. Consider to use CPU instead\n"
     ]
    }
   ],
   "source": [
    "# Import mlcompute module to use the optional set_mlc_device API for device selection with ML Compute.\n",
    "from tensorflow.python.compiler.mlcompute import mlcompute\n",
    "\n",
    "# Select CPU device.\n",
    "mlcompute.set_mlc_device(device_name='gpu') # Available options are 'cpu', 'gpu', and ‘any'."
   ]
  },
  {
   "cell_type": "code",
   "execution_count": 8,
   "metadata": {},
   "outputs": [],
   "source": [
    "((X_train, y_train), (X_test, y_test)) = tf.keras.datasets.fashion_mnist.load_data()\n",
    "X_train = X_train[:, :, :, np.newaxis]\n",
    "X_test = X_test[:, :, :, np.newaxis]\n",
    "y_train = tf.keras.utils.to_categorical(y_train)\n",
    "y_test = tf.keras.utils.to_categorical(y_test)"
   ]
  },
  {
   "cell_type": "markdown",
   "metadata": {},
   "source": [
    "Model is defined without final softmax layer, so as to have access to logits directly"
   ]
  },
  {
   "cell_type": "code",
   "execution_count": 9,
   "metadata": {},
   "outputs": [],
   "source": [
    "class MiniVGGNet:\n",
    "    def build_model(self, width: int, height: int, depth: int, n_classes: int):\n",
    "        input_shape = (width, height, depth)\n",
    "        model = tf.keras.models.Sequential(\n",
    "            [\n",
    "                tf.keras.layers.Conv2D(\n",
    "                    32, (3, 3), padding=\"same\", input_shape=input_shape\n",
    "                ),\n",
    "                tf.keras.layers.Activation(\"relu\"),\n",
    "                tf.keras.layers.BatchNormalization(axis=-1),\n",
    "                tf.keras.layers.Conv2D(32, (3, 3), padding=\"same\"),\n",
    "                tf.keras.layers.Activation(\"relu\"),\n",
    "                tf.keras.layers.BatchNormalization(axis=-1),\n",
    "                tf.keras.layers.MaxPooling2D(pool_size=(2, 2)),\n",
    "                tf.keras.layers.Dropout(0.25),\n",
    "                # Second block\n",
    "                tf.keras.layers.Conv2D(32, (3, 3), padding=\"same\"),\n",
    "                tf.keras.layers.Activation(\"relu\"),\n",
    "                tf.keras.layers.BatchNormalization(axis=-1),\n",
    "                tf.keras.layers.Conv2D(32, (3, 3), padding=\"same\"),\n",
    "                tf.keras.layers.Activation(\"relu\"),\n",
    "                tf.keras.layers.BatchNormalization(axis=-1),\n",
    "                tf.keras.layers.MaxPooling2D(pool_size=(2, 2)),\n",
    "                tf.keras.layers.Dropout(0.25),\n",
    "                # Final block\n",
    "                tf.keras.layers.Flatten(),\n",
    "                tf.keras.layers.Dense(512),\n",
    "                tf.keras.layers.Activation(\"relu\"),\n",
    "                tf.keras.layers.BatchNormalization(),\n",
    "                tf.keras.layers.Dropout(0.5),\n",
    "                # Output\n",
    "                tf.keras.layers.Dense(n_classes),\n",
    "            ]\n",
    "        )\n",
    "        return model"
   ]
  },
  {
   "cell_type": "markdown",
   "metadata": {},
   "source": [
    "To find the optimal learning rate, we need to train the model for a small number of epochs, typically 3 - 5, but with each batch / step of training, increase the learning rate. The learning rate should increase as part of a geometric series, rather than arithmetic, from a lower to upper bound, with the number of elements equal to the number of training steps needed for the number of epochs we will choose to train for. As a result, we need to find the **common ratio** for a geometric series that satisfies the above requirements."
   ]
  },
  {
   "cell_type": "markdown",
   "metadata": {},
   "source": [
    "## Geometric series\n",
    "A geometric series is defined by it's starting value, $a$, and the common ratio, $r$.\n",
    "$$\n",
    "a_{n} = a_{n-1}\\times r \\\\\n",
    "a = {a, ar, ar^{2}, ar^{3}, ar^{4}, ... , ar^{n}}\n",
    "$$\n",
    "The common ratio can be found by dividing two successive elements of the series:\n",
    "$$\n",
    "r = \\frac{a_{n}}{a_{n-1}}\n",
    "$$\n",
    "To find the common ratio that satisfies the above requirements, we can derive an equation, where $k$ equals the number of elements we want in the series.\n",
    "\n",
    "If we divide the last element, $a_{N_{e}}$, by the first element, $a_{N_{s}}$, we get $r^{k}$\n",
    "$$\n",
    "k = N_{e} - N_{s} \\\\\n",
    "r^{k} = \\frac{a_{N_{e}}}{a_{N_{s}}} = \\frac{ar^{N_{e}}}{ar^{N_{s}}} \\\\\n",
    "r^{k} = r^{N_{e}-N_{s}} \\\\\n",
    "$$\n",
    "\n",
    "If we substitute the right-hand side value of $r^{k}$ with a numerical value, $A$, we can solve for $r$, with the value of $k$ we want:\n",
    "\n",
    "$$\n",
    "k\\cdot\\log{r}=\\log{A} \\\\\n",
    "\\log{r} = \\frac{\\log{A}}{k} \\\\\n",
    "r = 10^{\\frac{\\log{A}}{k}}\n",
    "$$\n",
    "\n",
    "This equation is not necessary if we are using `np.geomspace()`."
   ]
  },
  {
   "cell_type": "markdown",
   "metadata": {},
   "source": [
    "## Learning rate finder"
   ]
  },
  {
   "cell_type": "code",
   "execution_count": 57,
   "metadata": {},
   "outputs": [],
   "source": [
    "class LearningRateFinder(tf.keras.callbacks.Callback):\n",
    "    def __init__(self, min_lr: float, max_lr: float, steps: int):\n",
    "        super(LearningRateFinder, self).__init__()\n",
    "        self.batch_num = 0\n",
    "        self.min_lr = min_lr\n",
    "        self.max_lr = max_lr\n",
    "        self.steps = steps\n",
    "        self.lr_range = np.geomspace(self.min_lr, self.max_lr, steps)\n",
    "        self.history = []\n",
    "\n",
    "    def on_train_batch_end(self, batch: int, logs=None):\n",
    "        lr = float(tf.keras.backend.get_value(self.model.optimizer.learning_rate))\n",
    "        self.history.append(\n",
    "            {\n",
    "                \"batch\": self.batch_num,\n",
    "                \"lr\": self.lr_range[self.batch_num],\n",
    "                \"loss\": logs[\"loss\"],\n",
    "            }\n",
    "        )\n",
    "        self.batch_num += 1\n",
    "        if not self.batch_num == self.steps:\n",
    "            tf.keras.backend.set_value(\n",
    "                self.model.optimizer.lr, self.lr_range[self.batch_num]\n",
    "            )"
   ]
  },
  {
   "cell_type": "markdown",
   "metadata": {},
   "source": [
    "Choose a small number of epochs between 3 - 5."
   ]
  },
  {
   "cell_type": "code",
   "execution_count": 58,
   "metadata": {},
   "outputs": [],
   "source": [
    "BATCH_SIZE = 24\n",
    "N_EPOCHS = 3"
   ]
  },
  {
   "cell_type": "code",
   "execution_count": 59,
   "metadata": {},
   "outputs": [],
   "source": [
    "STARTING_LEARNING_RATE = 1e-10\n",
    "lr_find = LearningRateFinder(\n",
    "    min_lr=STARTING_LEARNING_RATE,\n",
    "    max_lr=1e1,\n",
    "    steps=N_EPOCHS * math.ceil(X_train.shape[0] / BATCH_SIZE),\n",
    ")"
   ]
  },
  {
   "cell_type": "code",
   "execution_count": 60,
   "metadata": {},
   "outputs": [],
   "source": [
    "model = MiniVGGNet().build_model(width=28, height=28, depth=1, n_classes=10)\n",
    "sgd = tf.optimizers.SGD(\n",
    "    learning_rate=STARTING_LEARNING_RATE,\n",
    ")\n",
    "model.compile(\n",
    "    optimizer=sgd,\n",
    "    loss=tf.keras.losses.CategoricalCrossentropy(from_logits=True),\n",
    ")"
   ]
  },
  {
   "cell_type": "code",
   "execution_count": 61,
   "metadata": {},
   "outputs": [
    {
     "name": "stdout",
     "output_type": "stream",
     "text": [
      "Epoch 1/3\n",
      "2500/2500 [==============================] - 56s 22ms/step - loss: 3.7293\n",
      "Epoch 2/3\n",
      "2500/2500 [==============================] - 55s 22ms/step - loss: 3.5165\n",
      "Epoch 3/3\n",
      "2500/2500 [==============================] - 57s 23ms/step - loss: nan\n"
     ]
    },
    {
     "data": {
      "text/plain": [
       "<tensorflow.python.keras.callbacks.History at 0x1800c0bb0>"
      ]
     },
     "execution_count": 61,
     "metadata": {},
     "output_type": "execute_result"
    }
   ],
   "source": [
    "model.fit(X_train, y_train, batch_size=BATCH_SIZE, epochs=N_EPOCHS, callbacks=[lr_find])"
   ]
  },
  {
   "cell_type": "code",
   "execution_count": 62,
   "metadata": {},
   "outputs": [],
   "source": [
    "history = pd.DataFrame(lr_find.history)"
   ]
  },
  {
   "cell_type": "code",
   "execution_count": 85,
   "metadata": {},
   "outputs": [
    {
     "data": {
      "image/png": "[encoded data removed]",
      "text/plain": [
       "<Figure size 1152x432 with 1 Axes>"
      ]
     },
     "metadata": {
      "image/png": {
       "height": 375,
       "width": 942
      },
      "needs_background": "light"
     },
     "output_type": "display_data"
    }
   ],
   "source": [
    "f, ax = plt.subplots(figsize=(16, 6))\n",
    "ax.plot(history.lr, history.loss, alpha=0.5, c=\"b\", label=\"Loss\")\n",
    "ax.plot(history.lr, history.loss.rolling(200).mean(), c=\"b\", label=\"Smoothed loss\")\n",
    "ax.set_ylim([0, 5])\n",
    "ax.set_ylabel(\"Loss\")\n",
    "ax.set_xlabel(\"Learning rate\")\n",
    "ax.set_xscale(\"log\")\n",
    "ax.legend()\n",
    "ax.grid(\"on\")"
   ]
  },
  {
   "cell_type": "markdown",
   "metadata": {},
   "source": [
    "The minimum of this graph is at a learning rate of $10^{-1}$, but in fact this is not the best learning rate as we are too close to a learning rate that can cause an explosion in loss. Hence, it is best to go back one order of magnitude."
   ]
  }
 ],
 "metadata": {
  "kernelspec": {
   "display_name": "TensorFlow for Mac",
   "language": "python",
   "name": "mac_tf"
  },
  "language_info": {
   "codemirror_mode": {
    "name": "ipython",
    "version": 3
   },
   "file_extension": ".py",
   "mimetype": "text/x-python",
   "name": "python",
   "nbconvert_exporter": "python",
   "pygments_lexer": "ipython3",
   "version": "3.8.6"
  },
  "widgets": {
   "application/vnd.jupyter.widget-state+json": {
    "state": {},
    "version_major": 2,
    "version_minor": 0
   }
  }
 },
 "nbformat": 4,
 "nbformat_minor": 4
}
